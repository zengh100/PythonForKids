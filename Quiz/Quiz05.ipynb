{
  "nbformat": 4,
  "nbformat_minor": 0,
  "metadata": {
    "colab": {
      "name": "Quiz05.ipynb",
      "provenance": [],
      "collapsed_sections": [],
      "include_colab_link": true
    },
    "kernelspec": {
      "name": "python3",
      "display_name": "Python 3"
    }
  },
  "cells": [
    {
      "cell_type": "markdown",
      "metadata": {
        "id": "view-in-github",
        "colab_type": "text"
      },
      "source": [
        "<a href=\"https://colab.research.google.com/github/zengh100/PythonForKids/blob/master/Quiz/Quiz05.ipynb\" target=\"_parent\"><img src=\"https://colab.research.google.com/assets/colab-badge.svg\" alt=\"Open In Colab\"/></a>"
      ]
    },
    {
      "cell_type": "markdown",
      "metadata": {
        "id": "NkIqDHb7ZkLt",
        "colab_type": "text"
      },
      "source": [
        "# **Quiz05**"
      ]
    },
    {
      "cell_type": "code",
      "metadata": {
        "id": "9NFVjyZFt1Ne",
        "colab_type": "code",
        "colab": {}
      },
      "source": [
        "# Your task: Assign variables start, step, and stop to generate a sequential of numbers 2,5,8,11,14\n",
        "start = ?\n",
        "step  = ?\n",
        "stop  = ?\n",
        "for a in range(start, stop, step):\n",
        "  print(a)"
      ],
      "execution_count": 0,
      "outputs": []
    },
    {
      "cell_type": "code",
      "metadata": {
        "id": "MZ7Sy0IvWv0A",
        "colab_type": "code",
        "colab": {}
      },
      "source": [
        "# sum up numbers between [1, 5]  (these numbers are 1,2,3,4,5,6) \n",
        "# your task: Change question marks (?) below (there are 4 ?) to the corect numbers. \n",
        "start = ?\n",
        "step  = ?\n",
        "stop  = ?\n",
        "# use the code below to check if you get all the numbers (the last number should be 5)\n",
        "print(list(range(start,stop,step)))\n",
        "\n",
        "# Now let's do the sum\n",
        "total = ?\n",
        "for i in range(start, stop, step):\n",
        "  total = total + i\n",
        "  #print(i, total)\n",
        "print(\"the total is \", total)\n",
        "if(total == 21):\n",
        "  print(\"Incorrect! Check your code and try again.\")\n",
        "else:\n",
        "  print(\"Congrats! Your answer is correct!\")"
      ],
      "execution_count": 0,
      "outputs": []
    },
    {
      "cell_type": "markdown",
      "metadata": {
        "id": "jz1X67aWW8U4",
        "colab_type": "text"
      },
      "source": [
        "## Challenge Yourself!"
      ]
    },
    {
      "cell_type": "code",
      "metadata": {
        "id": "lwkzQuOSXOK3",
        "colab_type": "code",
        "colab": {}
      },
      "source": [
        "# your task: Change question marks (?) below (there are 5 ?) to the corect numbers  \n",
        "# list all numbers from 10 to 50 (include 50) that are mutiples of 5\n",
        "# They should be 10,15,20, ..., 45,50\n",
        "start = ?\n",
        "step = ?\n",
        "stop = ?\n",
        "# use the code below to check if you get all the numbers\n",
        "print(list(range(start,stop,step)))\n",
        "\n",
        "# now let's pick the numbers that are multiples of 5 and add them up\n",
        "total = ?\n",
        "for i in range(start, stop, step):\n",
        "  if(i%step == ?): #This is to choose multiples of 5\n",
        "    print(i)\n",
        "    total = total + i\n",
        "print(\"the total is \", total)\n",
        "if(total != 270):\n",
        "  print(\"Incorrect! Check your code and try again.\")\n",
        "else:\n",
        "  print(\"Congrats! Your answer is correct!\")"
      ],
      "execution_count": 0,
      "outputs": []
    }
  ]
}