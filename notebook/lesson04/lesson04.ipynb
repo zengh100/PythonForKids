{
  "nbformat": 4,
  "nbformat_minor": 0,
  "metadata": {
    "colab": {
      "name": "lesson04.ipynb",
      "provenance": [],
      "collapsed_sections": [],
      "include_colab_link": true
    },
    "kernelspec": {
      "name": "python3",
      "display_name": "Python 3"
    }
  },
  "cells": [
    {
      "cell_type": "markdown",
      "metadata": {
        "id": "view-in-github",
        "colab_type": "text"
      },
      "source": [
        "<a href=\"https://colab.research.google.com/github/zengh100/PythonForKids/blob/master/notebook/lesson04/lesson04.ipynb\" target=\"_parent\"><img src=\"https://colab.research.google.com/assets/colab-badge.svg\" alt=\"Open In Colab\"/></a>"
      ]
    },
    {
      "cell_type": "markdown",
      "metadata": {
        "id": "geUPaXke1Zg2",
        "colab_type": "text"
      },
      "source": [
        "The range() is a built-in function of Python which returns a range object, which is nothing but a sequence of integers. i.e., Python range() generates the integer numbers between the given start integer to the stop integer, which is generally used to iterate over with for loop. \n",
        "\n",
        "[watch video](https://www.youtube.com/watch?v=HWcs5qdvvo0)\n",
        "\n",
        "![alt text](https://pynative.com/wp-content/uploads/2018/10/python_range-300x220.png)"
      ]
    },
    {
      "cell_type": "code",
      "metadata": {
        "id": "r0yO8GRfq4GD",
        "colab_type": "code",
        "colab": {}
      },
      "source": [
        "# range(6) generates a a sequence of integers: 0,1,2,3,4,5  (DOES NOT include 6)\n",
        "for i in range(4):\n",
        "  print(i)"
      ],
      "execution_count": 0,
      "outputs": []
    },
    {
      "cell_type": "code",
      "metadata": {
        "id": "WWhB9PMn2u87",
        "colab_type": "code",
        "outputId": "03dea809-cf02-4533-d2c9-e3fc995028c9",
        "colab": {
          "base_uri": "https://localhost:8080/",
          "height": 86
        }
      },
      "source": [
        "start=2\n",
        "stop=6  \n",
        "for i in range(start,stop):\n",
        "  print(i)"
      ],
      "execution_count": 5,
      "outputs": [
        {
          "output_type": "stream",
          "text": [
            "2\n",
            "3\n",
            "4\n",
            "5\n"
          ],
          "name": "stdout"
        }
      ]
    },
    {
      "cell_type": "code",
      "metadata": {
        "id": "-STwtSD42qST",
        "colab_type": "code",
        "colab": {}
      },
      "source": [
        "start=0\n",
        "stop=6\n",
        "step=2 \n",
        "for i in range(start,stop, step):\n",
        "  print(i)\n"
      ],
      "execution_count": 0,
      "outputs": []
    },
    {
      "cell_type": "code",
      "metadata": {
        "id": "T6ThIvV9DsMK",
        "colab_type": "code",
        "colab": {}
      },
      "source": [
        "# Quiz: use range function to generate a sequential of integers: 5, 10, 15,20\n",
        "start = ?\n",
        "stop = ?\n",
        "step = ?\n",
        "print(list(range(start,stop,step)))"
      ],
      "execution_count": 0,
      "outputs": []
    },
    {
      "cell_type": "markdown",
      "metadata": {
        "id": "24ZrPQiZ3_dS",
        "colab_type": "text"
      },
      "source": [
        "![alt text](data:image/jpeg;base64,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)"
      ]
    },
    {
      "cell_type": "markdown",
      "metadata": {
        "id": "0Yy9u0OJ4PGE",
        "colab_type": "text"
      },
      "source": [
        "# Three different methods to use range function\n",
        "- one argument which is stop. start is default as 0 and step is 1 by default.\n",
        "\n",
        "      range(stop)          <--->  range(0, stop, 1)\n",
        "\n",
        "- two arguments which are start and stop. step is 1 by default\n",
        "\n",
        "      range (start, stop)  <--->  range(start, stop, 1)\n",
        "\n",
        "- three arguments\n",
        "\n",
        "      range (start, stop, step)\n",
        "\n"
      ]
    },
    {
      "cell_type": "code",
      "metadata": {
        "id": "5EtZ1CCK3De7",
        "colab_type": "code",
        "colab": {}
      },
      "source": [
        "# convert range to a list\n",
        "r = range(6) \n",
        "print(r)\n",
        "l = list(r)\n",
        "print(l)"
      ],
      "execution_count": 0,
      "outputs": []
    },
    {
      "cell_type": "markdown",
      "metadata": {
        "id": "p6pJii9e_5DU",
        "colab_type": "text"
      },
      "source": [
        "# For Loop\n",
        "[watch video](https://www.youtube.com/watch?v=OnDr4J2UXSA)"
      ]
    },
    {
      "cell_type": "code",
      "metadata": {
        "id": "yXx0NoZcJFMU",
        "colab_type": "code",
        "colab": {
          "base_uri": "https://localhost:8080/",
          "height": 34
        },
        "outputId": "de96a4d4-bd77-4d39-c37f-d1ae3890d317"
      },
      "source": [
        "total = 0\n",
        "for i in range(1, 100):\n",
        "  if(i%3==0):\n",
        "    total = total + i\n",
        "print(total)"
      ],
      "execution_count": 6,
      "outputs": [
        {
          "output_type": "stream",
          "text": [
            "1683\n"
          ],
          "name": "stdout"
        }
      ]
    },
    {
      "cell_type": "code",
      "metadata": {
        "id": "Po4zGWEJEVtI",
        "colab_type": "code",
        "colab": {}
      },
      "source": [
        "# sum up numbers between [1, 99] that are multiple of 5 \n",
        "# start = 1\n",
        "# stop = 100\n",
        "# step = 1\n",
        "# print(list(range(start,stop,step)))\n",
        "\n",
        "total = 0\n",
        "for i in range(1, 5):\n",
        "  total = total + i\n",
        "  print(i, total)\n",
        "print(i, total)"
      ],
      "execution_count": 0,
      "outputs": []
    }
  ]
}