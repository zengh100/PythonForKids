{
  "nbformat": 4,
  "nbformat_minor": 0,
  "metadata": {
    "colab": {
      "name": "02_data_type_number.ipynb",
      "provenance": [],
      "include_colab_link": true
    },
    "kernelspec": {
      "name": "python3",
      "display_name": "Python 3"
    }
  },
  "cells": [
    {
      "cell_type": "markdown",
      "metadata": {
        "id": "view-in-github",
        "colab_type": "text"
      },
      "source": [
        "<a href=\"https://colab.research.google.com/github/zengh100/PythonForKids/blob/master/notebook/lesson01/03_Work%20with%20number.ipynb\" target=\"_parent\"><img src=\"https://colab.research.google.com/assets/colab-badge.svg\" alt=\"Open In Colab\"/></a>"
      ]
    },
    {
      "cell_type": "code",
      "metadata": {
        "id": "NcEpF_az9_zB",
        "colab_type": "code",
        "colab": {}
      },
      "source": [
        "# In Python, # is used to comment your code. comments are never not executed.\n",
        "# in each line, anything after # is treated as comment.\n",
        "# each print starts a new line\n",
        "\n",
        "a=1\n",
        "b=2\n",
        "a=b+a\n",
        "c=b+a\n",
        "\n"
      ],
      "execution_count": 0,
      "outputs": []
    },
    {
      "cell_type": "markdown",
      "metadata": {
        "id": "o-bRhlkJWnhJ",
        "colab_type": "text"
      },
      "source": [
        "what are the values of a,b,c?"
      ]
    },
    {
      "cell_type": "code",
      "metadata": {
        "id": "GhdDEf5WW5Pb",
        "colab_type": "code",
        "colab": {
          "base_uri": "https://localhost:8080/",
          "height": 34
        },
        "outputId": "cb666db9-3e5c-43e4-e0e3-fe8fcfd16ae5"
      },
      "source": [
        "print(a,b,c)"
      ],
      "execution_count": 2,
      "outputs": [
        {
          "output_type": "stream",
          "text": [
            "3 2 5\n"
          ],
          "name": "stdout"
        }
      ]
    },
    {
      "cell_type": "code",
      "metadata": {
        "id": "NZWAadsEEXiz",
        "colab_type": "code",
        "colab": {}
      },
      "source": [
        "x=3\n",
        "y='3'"
      ],
      "execution_count": 0,
      "outputs": []
    },
    {
      "cell_type": "markdown",
      "metadata": {
        "id": "HKebmqHWD9Zx",
        "colab_type": "text"
      },
      "source": [
        "x is is a number; but y is a string. You can verify by running the code below."
      ]
    },
    {
      "cell_type": "code",
      "metadata": {
        "id": "RX2bhmE9EnMY",
        "colab_type": "code",
        "outputId": "17e2cdd5-f7ed-4632-8608-8c15d1dc1502",
        "colab": {
          "base_uri": "https://localhost:8080/",
          "height": 34
        }
      },
      "source": [
        "print(type(x))"
      ],
      "execution_count": 0,
      "outputs": [
        {
          "output_type": "stream",
          "text": [
            "<class 'int'>\n"
          ],
          "name": "stdout"
        }
      ]
    },
    {
      "cell_type": "code",
      "metadata": {
        "id": "Emoov4oNEzwo",
        "colab_type": "code",
        "outputId": "69b615d5-6302-42ff-c8e0-5f785aeec3ff",
        "colab": {
          "base_uri": "https://localhost:8080/",
          "height": 34
        }
      },
      "source": [
        "print(type(y))"
      ],
      "execution_count": 0,
      "outputs": [
        {
          "output_type": "stream",
          "text": [
            "<class 'str'>\n"
          ],
          "name": "stdout"
        }
      ]
    }
  ]
}