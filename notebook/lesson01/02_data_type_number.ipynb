# In Python, symbol # is used to comment which is not executed.
# in each line, any code after
# each print starts a new line
print('type of 10')
print(type(10))

print()
print('type of 10.0')
print(type(10.0))

print()
print('type of 10.1')
print(type(10.1))
