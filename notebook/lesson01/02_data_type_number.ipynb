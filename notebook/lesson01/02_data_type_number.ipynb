{
  "nbformat": 4,
  "nbformat_minor": 0,
  "metadata": {
    "colab": {
      "name": "02_data_type_number.ipynb",
      "provenance": [],
      "include_colab_link": true
    },
    "kernelspec": {
      "name": "python3",
      "display_name": "Python 3"
    }
  },
  "cells": [
    {
      "cell_type": "markdown",
      "metadata": {
        "id": "view-in-github",
        "colab_type": "text"
      },
      "source": [
        "<a href=\"https://colab.research.google.com/github/zengh100/PythonForKids/blob/master/notebook/lesson01/02_data_type_number.ipynb\" target=\"_parent\"><img src=\"https://colab.research.google.com/assets/colab-badge.svg\" alt=\"Open In Colab\"/></a>"
      ]
    },
    {
      "cell_type": "code",
      "metadata": {
        "id": "NcEpF_az9_zB",
        "colab_type": "code",
        "colab": {
          "base_uri": "https://localhost:8080/",
          "height": 153
        },
        "outputId": "55d4f0d2-3368-4e26-a0cb-4d8c5ee9be02"
      },
      "source": [
        "# In Python, \n",
        "#in each line, any code after\n",
        "#each print starts a new line\n",
        "print('type of 10')\n",
        "print(type(10))\n",
        "\n",
        "print()\n",
        "print('type of 10.0')\n",
        "print(type(10.0))\n",
        "\n",
        "print()\n",
        "print('type of 10.1')\n",
        "print(type(10.1))\n"
      ],
      "execution_count": 1,
      "outputs": [
        {
          "output_type": "stream",
          "text": [
            "type of 10\n",
            "<class 'int'>\n",
            "\n",
            "type of 10.0\n",
            "<class 'float'>\n",
            "\n",
            "type of 10.1\n",
            "<class 'float'>\n"
          ],
          "name": "stdout"
        }
      ]
    }
  ]
}