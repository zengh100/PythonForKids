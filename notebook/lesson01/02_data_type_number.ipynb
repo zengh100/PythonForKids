{
  "nbformat": 4,
  "nbformat_minor": 0,
  "metadata": {
    "colab": {
      "name": "02_data_type_number.ipynb",
      "provenance": [],
      "include_colab_link": true
    },
    "kernelspec": {
      "name": "python3",
      "display_name": "Python 3"
    }
  },
  "cells": [
    {
      "cell_type": "markdown",
      "metadata": {
        "id": "view-in-github",
        "colab_type": "text"
      },
      "source": [
        "<a href=\"https://colab.research.google.com/github/zengh100/PythonForKids/blob/master/notebook/lesson01/02_data_type_number.ipynb\" target=\"_parent\"><img src=\"https://colab.research.google.com/assets/colab-badge.svg\" alt=\"Open In Colab\"/></a>"
      ]
    },
    {
      "cell_type": "code",
      "metadata": {
        "id": "NcEpF_az9_zB",
        "colab_type": "code",
        "outputId": "3d2f6a3c-a92b-4f57-9b91-0ba49000c818",
        "colab": {
          "base_uri": "https://localhost:8080/",
          "height": 153
        }
      },
      "source": [
        "# In Python, # is used to comment your code. comments are never not executed.\n",
        "# in each line, anythin after # is treated as comment.\n",
        "# each print starts a new line\n",
        "print('type of 10')\n",
        "print(type(10))\n",
        "\n",
        "print()\n",
        "print('type of 10.0')\n",
        "print(type(10.0))\n",
        "\n",
        "print()\n",
        "print('type of 10.1')\n",
        "print(type(10.1))\n"
      ],
      "execution_count": 2,
      "outputs": [
        {
          "output_type": "stream",
          "text": [
            "type of 10\n",
            "<class 'int'>\n",
            "\n",
            "type of 10.0\n",
            "<class 'float'>\n",
            "\n",
            "type of 10.1\n",
            "<class 'float'>\n"
          ],
          "name": "stdout"
        }
      ]
    }
  ]
}