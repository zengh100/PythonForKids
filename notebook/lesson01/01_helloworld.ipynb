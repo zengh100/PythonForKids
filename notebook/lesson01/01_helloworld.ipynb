{
  "nbformat": 4,
  "nbformat_minor": 0,
  "metadata": {
    "colab": {
      "name": "helloworld.ipynb",
      "provenance": [],
      "include_colab_link": true
    },
    "kernelspec": {
      "name": "python3",
      "display_name": "Python 3"
    }
  },
  "cells": [
    {
      "cell_type": "markdown",
      "metadata": {
        "id": "view-in-github",
        "colab_type": "text"
      },
      "source": [
        "<a href=\"https://colab.research.google.com/github/zengh100/PythonForKids/blob/master/notebook/lesson01/01_helloworld.ipynb\" target=\"_parent\"><img src=\"https://colab.research.google.com/assets/colab-badge.svg\" alt=\"Open In Colab\"/></a>"
      ]
    },
    {
      "cell_type": "markdown",
      "metadata": {
        "id": "49ZCEt9gA3k3",
        "colab_type": "text"
      },
      "source": [
        "print() is a builtin Python function to display strings or numbers onto screen."
      ]
    },
    {
      "cell_type": "code",
      "metadata": {
        "id": "edNP_9lM2U9s",
        "colab_type": "code",
        "outputId": "fc17590a-31a4-4da9-caaf-b9770d977eef",
        "colab": {
          "base_uri": "https://localhost:8080/",
          "height": 34
        }
      },
      "source": [
        "print('Hello World!')"
      ],
      "execution_count": 4,
      "outputs": [
        {
          "output_type": "stream",
          "text": [
            "Hello World!\n"
          ],
          "name": "stdout"
        }
      ]
    },
    {
      "cell_type": "markdown",
      "metadata": {
        "id": "8bZgiSHtAzQp",
        "colab_type": "text"
      },
      "source": [
        "You can use double quotation mark to specify the string too"
      ]
    },
    {
      "cell_type": "code",
      "metadata": {
        "id": "EOA7szctBlBg",
        "colab_type": "code",
        "colab": {
          "base_uri": "https://localhost:8080/",
          "height": 34
        },
        "outputId": "33bcc84a-68f0-428e-87b0-dffc1d00c4a7"
      },
      "source": [
        "print(\"Hello World!\")"
      ],
      "execution_count": 5,
      "outputs": [
        {
          "output_type": "stream",
          "text": [
            "Hello World!\n"
          ],
          "name": "stdout"
        }
      ]
    }
  ]
}