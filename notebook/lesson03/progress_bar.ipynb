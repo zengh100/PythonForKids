{
  "nbformat": 4,
  "nbformat_minor": 0,
  "metadata": {
    "colab": {
      "name": "progress_bar.ipynb",
      "provenance": [],
      "collapsed_sections": [],
      "include_colab_link": true
    },
    "kernelspec": {
      "name": "python3",
      "display_name": "Python 3"
    }
  },
  "cells": [
    {
      "cell_type": "markdown",
      "metadata": {
        "id": "view-in-github",
        "colab_type": "text"
      },
      "source": [
        "<a href=\"https://colab.research.google.com/github/zengh100/PythonForKids/blob/master/notebook/lesson03/progress_bar.ipynb\" target=\"_parent\"><img src=\"https://colab.research.google.com/assets/colab-badge.svg\" alt=\"Open In Colab\"/></a>"
      ]
    },
    {
      "cell_type": "markdown",
      "metadata": {
        "id": "Oj88ilUUoadu",
        "colab_type": "text"
      },
      "source": [
        "# print with \\b"
      ]
    },
    {
      "cell_type": "code",
      "metadata": {
        "id": "x4Zr_aYalMQm",
        "colab_type": "code",
        "outputId": "bf617d87-104e-4421-f6b7-fa5d95a34b61",
        "colab": {
          "base_uri": "https://localhost:8080/",
          "height": 52
        }
      },
      "source": [
        "# Control character \\b moves the cursor one character back, \n",
        "# which will print the following character over the previous character. \n",
        "# This is useful for overwriting the characters at the end of the line.\n",
        "\n",
        "print('xyz')\n",
        "print('xy\\bz')"
      ],
      "execution_count": 47,
      "outputs": [
        {
          "output_type": "stream",
          "text": [
            "xyz\n",
            "xy\bz\n"
          ],
          "name": "stdout"
        }
      ]
    },
    {
      "cell_type": "markdown",
      "metadata": {
        "id": "NPi6CP3_uTwG",
        "colab_type": "text"
      },
      "source": [
        "# Use def to define a function. The function's name demo_control_chracter_b "
      ]
    },
    {
      "cell_type": "code",
      "metadata": {
        "id": "c_pCDXOnu4Z6",
        "colab_type": "code",
        "outputId": "d07c2bce-ab99-4e6e-bec4-54fc9c06802f",
        "colab": {
          "base_uri": "https://localhost:8080/",
          "height": 52
        }
      },
      "source": [
        "def demo_control_chracter_b():\n",
        "     print('xy\\bz')\n",
        "# run the function once\n",
        "demo_control_chracter_b() \n",
        "demo_control_chracter_b() "
      ],
      "execution_count": 0,
      "outputs": [
        {
          "output_type": "stream",
          "text": [
            "xy\bz\n",
            "xy\bz\n"
          ],
          "name": "stdout"
        }
      ]
    },
    {
      "cell_type": "markdown",
      "metadata": {
        "id": "8g58MZPMo3_9",
        "colab_type": "text"
      },
      "source": [
        "# print without/with end=''"
      ]
    },
    {
      "cell_type": "code",
      "metadata": {
        "id": "H7oIlTiaaJ3T",
        "colab_type": "code",
        "outputId": "1ff3e1b4-8a95-47ed-fc9c-9653f43b85e8",
        "colab": {
          "base_uri": "https://localhost:8080/",
          "height": 52
        }
      },
      "source": [
        "def print_without_end():\n",
        "     print('xy')\n",
        "     print('z')\n",
        "# run the function once\n",
        "print_without_end() "
      ],
      "execution_count": 2,
      "outputs": [
        {
          "output_type": "stream",
          "text": [
            "xy\n",
            "z\n"
          ],
          "name": "stdout"
        }
      ]
    },
    {
      "cell_type": "markdown",
      "metadata": {
        "id": "dMmXgRxHwjkU",
        "colab_type": "text"
      },
      "source": [
        "If you need to make sure that the print will not start a new line at the end, in Python 3 you can add the argument \"end=''\" to the print:"
      ]
    },
    {
      "cell_type": "code",
      "metadata": {
        "id": "-WPICwcuakYa",
        "colab_type": "code",
        "outputId": "5026e56e-9d0c-46b9-b89e-60a48d56e268",
        "colab": {
          "base_uri": "https://localhost:8080/",
          "height": 34
        }
      },
      "source": [
        "def print_with_end():\n",
        "     print('xy', end='')\n",
        "     print('z')\n",
        "# run the function once\n",
        "print_with_end() "
      ],
      "execution_count": 5,
      "outputs": [
        {
          "output_type": "stream",
          "text": [
            "xyz\n"
          ],
          "name": "stdout"
        }
      ]
    },
    {
      "cell_type": "markdown",
      "metadata": {
        "id": "GMrQJeu8pQdA",
        "colab_type": "text"
      },
      "source": [
        "# print with \\r"
      ]
    },
    {
      "cell_type": "code",
      "metadata": {
        "id": "ibbMaWIOvo8N",
        "colab_type": "code",
        "outputId": "c0940f1e-078e-49ce-f85b-b8390dbb3b6b",
        "colab": {
          "base_uri": "https://localhost:8080/",
          "height": 34
        }
      },
      "source": [
        "# Control character \\r moves the cursor to the beginning of the line, \n",
        "# which will print the following character over the first character. \n",
        "# This is useful for overwriting the characters at the beginning of the line or the whole line.\n",
        "\n",
        "print('xy\\rz')"
      ],
      "execution_count": 3,
      "outputs": [
        {
          "output_type": "stream",
          "text": [
            "xy\rz\n"
          ],
          "name": "stdout"
        }
      ]
    },
    {
      "cell_type": "markdown",
      "metadata": {
        "id": "_ZeQcJdhqA61",
        "colab_type": "text"
      },
      "source": [
        "# Practice"
      ]
    },
    {
      "cell_type": "code",
      "metadata": {
        "id": "Qyv_u2s3wXyK",
        "colab_type": "code",
        "outputId": "c6df41bb-b85a-425e-c570-e110e34881b4",
        "colab": {
          "base_uri": "https://localhost:8080/",
          "height": 34
        }
      },
      "source": [
        "print('xyyy\\b\\b\\bzzz')"
      ],
      "execution_count": 4,
      "outputs": [
        {
          "output_type": "stream",
          "text": [
            "xyyy\b\b\bzzz\n"
          ],
          "name": "stdout"
        }
      ]
    },
    {
      "cell_type": "code",
      "metadata": {
        "id": "pNMwSbsuxTtJ",
        "colab_type": "code",
        "outputId": "d327127b-79c8-458a-b83d-8c48c563097a",
        "colab": {
          "base_uri": "https://localhost:8080/",
          "height": 34
        }
      },
      "source": [
        "def g():\n",
        "     print('xy', end='')\n",
        "     print('\\rzz')\n",
        " \n",
        "g()"
      ],
      "execution_count": 9,
      "outputs": [
        {
          "output_type": "stream",
          "text": [
            "xy\rzz\n"
          ],
          "name": "stdout"
        }
      ]
    },
    {
      "cell_type": "markdown",
      "metadata": {
        "id": "NFnRD18BxkFQ",
        "colab_type": "text"
      },
      "source": [
        "# String formatting\n",
        "\n",
        "When displaying a percentage it's important that the number always takes the same amount of character space so that you know how many characters to overwrite. This can be done using the format method of strings. The format method allows you to make a string take a fixed amount of characters, filling the remainder with spaces as follows:"
      ]
    },
    {
      "cell_type": "code",
      "metadata": {
        "id": "muAlEwdP1E6q",
        "colab_type": "code",
        "outputId": "c12704e8-fe73-431a-fbce-db76bd3dc499",
        "colab": {
          "base_uri": "https://localhost:8080/",
          "height": 34
        }
      },
      "source": [
        "curr = 57.14\n",
        "total = 100\n",
        "frac = curr/total\n",
        "print('[{:>7.2%}]'.format(frac))"
      ],
      "execution_count": 10,
      "outputs": [
        {
          "output_type": "stream",
          "text": [
            "[ 57.14%]\n"
          ],
          "name": "stdout"
        }
      ]
    },
    {
      "cell_type": "markdown",
      "metadata": {
        "id": "cOC-JLB6x2hP",
        "colab_type": "text"
      },
      "source": [
        "The formatting code is the \"{:>7.2%}\", where \">\" means that the string is be right aligned with spaces added to the front, \"7\" is the fixed length of the string + padded spaces (3 whole number digits + a point + 2 decimal digits + a percentage sign) \".2\" is the number of decimal places to round the percentage to, and \"%\" means that the fraction should be expressed as a percentage."
      ]
    },
    {
      "cell_type": "markdown",
      "metadata": {
        "id": "GxrDEJBZx7yn",
        "colab_type": "text"
      },
      "source": [
        "---\n",
        "# Replicated strings\n",
        "\n",
        "When displaying a progress bar it would also be useful to know that you can replicate a string for a number of times using the '*' operator, as follows:"
      ]
    },
    {
      "cell_type": "code",
      "metadata": {
        "id": "a73rYNdj1lYA",
        "colab_type": "code",
        "outputId": "ccee52fa-ccca-4d90-d6f7-a6555a2090ed",
        "colab": {
          "base_uri": "https://localhost:8080/",
          "height": 34
        }
      },
      "source": [
        "curr = 40\n",
        "total = 100\n",
        "full_progbar = 10\n",
        "filled_progbar = round(curr/total*full_progbar)\n",
        "print('#'*filled_progbar + '-'*(full_progbar-filled_progbar))"
      ],
      "execution_count": 19,
      "outputs": [
        {
          "output_type": "stream",
          "text": [
            "####------\n"
          ],
          "name": "stdout"
        }
      ]
    },
    {
      "cell_type": "markdown",
      "metadata": {
        "id": "AWFghDiMt-wl",
        "colab_type": "text"
      },
      "source": [
        "# For loop"
      ]
    },
    {
      "cell_type": "code",
      "metadata": {
        "id": "h8MmyltcsD0s",
        "colab_type": "code",
        "colab": {
          "base_uri": "https://localhost:8080/",
          "height": 210
        },
        "outputId": "d3933bd8-a536-401d-9de0-bff32b6eeaf4"
      },
      "source": [
        "for i in range(10+1):\n",
        "  frac = i/10\n",
        "  print('[{:>7.2%}]'.format(frac))\n",
        "  #sys.stdout.flush()"
      ],
      "execution_count": 34,
      "outputs": [
        {
          "output_type": "stream",
          "text": [
            "[  0.00%]\n",
            "[ 10.00%]\n",
            "[ 20.00%]\n",
            "[ 30.00%]\n",
            "[ 40.00%]\n",
            "[ 50.00%]\n",
            "[ 60.00%]\n",
            "[ 70.00%]\n",
            "[ 80.00%]\n",
            "[ 90.00%]\n",
            "[100.00%]\n"
          ],
          "name": "stdout"
        }
      ]
    },
    {
      "cell_type": "code",
      "metadata": {
        "id": "HDub2b1as0uO",
        "colab_type": "code",
        "colab": {
          "base_uri": "https://localhost:8080/",
          "height": 34
        },
        "outputId": "01b5bf6e-3ec0-4ff1-9a4a-e7c403e199aa"
      },
      "source": [
        "for i in range(1000+1):\n",
        "  frac = i/1000\n",
        "  print('\\r','[{:>7.2%}]'.format(frac), end='')\n",
        "  sys.stdout.flush()"
      ],
      "execution_count": 32,
      "outputs": [
        {
          "output_type": "stream",
          "text": [
            " [100.00%]"
          ],
          "name": "stdout"
        }
      ]
    },
    {
      "cell_type": "markdown",
      "metadata": {
        "id": "I1BrRRrouRSK",
        "colab_type": "text"
      },
      "source": [
        "# Animation with '—', '\\\\', '|', '/'"
      ]
    },
    {
      "cell_type": "code",
      "metadata": {
        "id": "BEsrQrpWu_wn",
        "colab_type": "code",
        "colab": {
          "base_uri": "https://localhost:8080/",
          "height": 34
        },
        "outputId": "a7cdda8b-b832-41e1-b7d1-4b7f3d06d397"
      },
      "source": [
        "import time\n",
        "c_list = '—\\|/—\\|/' \n",
        "for i in range(40+1):\n",
        "    j = i%8\n",
        "    c= c_list[j]\n",
        "\n",
        "    print('\\r', c, end='')\n",
        "    time.sleep(.300)"
      ],
      "execution_count": 45,
      "outputs": [
        {
          "output_type": "stream",
          "text": [
            " —"
          ],
          "name": "stdout"
        }
      ]
    },
    {
      "cell_type": "markdown",
      "metadata": {
        "id": "jVoFU8TWyXXD",
        "colab_type": "text"
      },
      "source": [
        "# Full example\n",
        "\n",
        "Here is a full progress bar example:"
      ]
    },
    {
      "cell_type": "code",
      "metadata": {
        "id": "Z60MikD3160P",
        "colab_type": "code",
        "outputId": "4c186d7e-0472-4c3b-a5b8-ed12488229e5",
        "colab": {
          "base_uri": "https://localhost:8080/",
          "height": 34
        }
      },
      "source": [
        "def progbar(curr, total, full_progbar):\n",
        "    frac = curr/total\n",
        "    filled_progbar = round(frac*full_progbar)\n",
        "    print('\\r', '#'*filled_progbar + '-'*(full_progbar-filled_progbar), '[{:>7.2%}]'.format(frac), end='')\n",
        "    #sys.stdout.flush()\n",
        " \n",
        "for i in range(1000+1):\n",
        "    progbar(i, 1000, 20)\n",
        "print()"
      ],
      "execution_count": 15,
      "outputs": [
        {
          "output_type": "stream",
          "text": [
            " #################### [100.00%]\n"
          ],
          "name": "stdout"
        }
      ]
    },
    {
      "cell_type": "markdown",
      "metadata": {
        "id": "njWpJ5xlym7Q",
        "colab_type": "text"
      },
      "source": [
        "A full progress bar plu a rotating cursor"
      ]
    },
    {
      "cell_type": "code",
      "metadata": {
        "id": "b7JGdjAk23T3",
        "colab_type": "code",
        "outputId": "400ef74f-d123-4002-edee-1c2d404f669c",
        "colab": {
          "base_uri": "https://localhost:8080/",
          "height": 34
        }
      },
      "source": [
        "import sys\n",
        "def progbar(curr, total, full_progbar, c):\n",
        "    frac = curr/total\n",
        "    filled_progbar = round(frac*full_progbar)\n",
        "    print('\\r', '#'*filled_progbar + '-'*(full_progbar-filled_progbar), '[{:>7.2%}]'.format(frac), c, end='')\n",
        "    sys.stdout.flush()\n",
        "c_list = '—\\|/—\\|/' \n",
        "for i in range(1000+1):\n",
        "    j = i%8\n",
        "    #c = '/'\n",
        "    c= c_list[j]\n",
        "    if(i==1000): c=''\n",
        "    progbar(i, 1000, 60, c)\n",
        "print()"
      ],
      "execution_count": 46,
      "outputs": [
        {
          "output_type": "stream",
          "text": [
            " ############################################################ [100.00%] \n"
          ],
          "name": "stdout"
        }
      ]
    }
  ]
}