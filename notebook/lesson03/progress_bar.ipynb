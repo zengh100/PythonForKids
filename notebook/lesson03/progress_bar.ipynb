{
  "nbformat": 4,
  "nbformat_minor": 0,
  "metadata": {
    "colab": {
      "name": "progress_bar.ipynb",
      "provenance": [],
      "collapsed_sections": [],
      "include_colab_link": true
    },
    "kernelspec": {
      "name": "python3",
      "display_name": "Python 3"
    }
  },
  "cells": [
    {
      "cell_type": "markdown",
      "metadata": {
        "id": "view-in-github",
        "colab_type": "text"
      },
      "source": [
        "<a href=\"https://colab.research.google.com/github/zengh100/PythonForKids/blob/master/notebook/lesson03/progress_bar.ipynb\" target=\"_parent\"><img src=\"https://colab.research.google.com/assets/colab-badge.svg\" alt=\"Open In Colab\"/></a>"
      ]
    },
    {
      "cell_type": "code",
      "metadata": {
        "id": "x4Zr_aYalMQm",
        "colab_type": "code",
        "colab": {
          "base_uri": "https://localhost:8080/",
          "height": 34
        },
        "outputId": "157bb15d-4ab1-4c00-ec7f-acf40d4726a0"
      },
      "source": [
        "# Control character \\b moves the cursor one character back, \n",
        "# which will print the following character over the previous character. \n",
        "# This is useful for overwriting the characters at the end of the line.\n",
        "\n",
        "print('xy\\bz')"
      ],
      "execution_count": 6,
      "outputs": [
        {
          "output_type": "stream",
          "text": [
            "xy\bz\n"
          ],
          "name": "stdout"
        }
      ]
    },
    {
      "cell_type": "markdown",
      "metadata": {
        "id": "NPi6CP3_uTwG",
        "colab_type": "text"
      },
      "source": [
        "Use def to define a function. The function's name demo_control_chracter_b "
      ]
    },
    {
      "cell_type": "code",
      "metadata": {
        "id": "c_pCDXOnu4Z6",
        "colab_type": "code",
        "colab": {
          "base_uri": "https://localhost:8080/",
          "height": 34
        },
        "outputId": "58b28cb8-3509-43fe-d3cb-0ad79e09880e"
      },
      "source": [
        "def demo_control_chracter_b():\n",
        "     print('xy', end='')\n",
        "     print('\\bz')\n",
        "# run the function once\n",
        "demo_control_chracter_b() "
      ],
      "execution_count": 7,
      "outputs": [
        {
          "output_type": "stream",
          "text": [
            "xy\bz\n"
          ],
          "name": "stdout"
        }
      ]
    },
    {
      "cell_type": "code",
      "metadata": {
        "id": "ibbMaWIOvo8N",
        "colab_type": "code",
        "colab": {
          "base_uri": "https://localhost:8080/",
          "height": 34
        },
        "outputId": "8bb65b81-b4b9-49b6-ded2-f14b4608e314"
      },
      "source": [
        "# Control character \\r moves the cursor to the beginning of the line, \n",
        "# which will print the following character over the first character. \n",
        "# This is useful for overwriting the characters at the beginning of the line or the whole line.\n",
        "\n",
        "print('xy\\rz')"
      ],
      "execution_count": 10,
      "outputs": [
        {
          "output_type": "stream",
          "text": [
            "xy\rz\n"
          ],
          "name": "stdout"
        }
      ]
    },
    {
      "cell_type": "code",
      "metadata": {
        "id": "Qyv_u2s3wXyK",
        "colab_type": "code",
        "colab": {
          "base_uri": "https://localhost:8080/",
          "height": 34
        },
        "outputId": "4c5307d5-ef66-4d6d-93f4-81d8de184e8e"
      },
      "source": [
        "print('xyyy\\b\\b\\bzzz')"
      ],
      "execution_count": 11,
      "outputs": [
        {
          "output_type": "stream",
          "text": [
            "xyyy\b\b\bzzz\n"
          ],
          "name": "stdout"
        }
      ]
    },
    {
      "cell_type": "markdown",
      "metadata": {
        "id": "dMmXgRxHwjkU",
        "colab_type": "text"
      },
      "source": [
        "If you need to make sure that the print will not start a new line at the end, in Python 3 you can add the argument \"end=''\" to the print:"
      ]
    },
    {
      "cell_type": "code",
      "metadata": {
        "id": "JE3MsRAwxGEp",
        "colab_type": "code",
        "colab": {
          "base_uri": "https://localhost:8080/",
          "height": 34
        },
        "outputId": "a64bd303-ef48-4280-f669-cce6152e08cf"
      },
      "source": [
        "def f():\n",
        "     print('xy', end='')\n",
        "     print('\\bz')\n",
        " \n",
        "f()"
      ],
      "execution_count": 12,
      "outputs": [
        {
          "output_type": "stream",
          "text": [
            "xy\bz\n"
          ],
          "name": "stdout"
        }
      ]
    },
    {
      "cell_type": "code",
      "metadata": {
        "id": "pNMwSbsuxTtJ",
        "colab_type": "code",
        "colab": {
          "base_uri": "https://localhost:8080/",
          "height": 34
        },
        "outputId": "422a0226-c9bb-4d44-f6c5-f111bf7b0c50"
      },
      "source": [
        "def g():\n",
        "     print('xy', end='')\n",
        "     print('\\rzz')\n",
        " \n",
        "g()"
      ],
      "execution_count": 14,
      "outputs": [
        {
          "output_type": "stream",
          "text": [
            "xy\rzz\n"
          ],
          "name": "stdout"
        }
      ]
    },
    {
      "cell_type": "code",
      "metadata": {
        "id": "aEbQ6Bqh02TR",
        "colab_type": "code",
        "colab": {
          "base_uri": "https://localhost:8080/",
          "height": 34
        },
        "outputId": "941cb111-41e0-454d-d20f-5599eb461702"
      },
      "source": [
        "def g():\n",
        "     sys.stdout.write('xy')\n",
        "     sys.stdout.write('\\bz\\n')\n",
        "g()"
      ],
      "execution_count": 7,
      "outputs": [
        {
          "output_type": "stream",
          "text": [
            "xy\bz\n"
          ],
          "name": "stdout"
        }
      ]
    },
    {
      "cell_type": "markdown",
      "metadata": {
        "id": "NFnRD18BxkFQ",
        "colab_type": "text"
      },
      "source": [
        "String formatting\n",
        "\n",
        "When displaying a percentage it's important that the number always takes the same amount of character space so that you know how many characters to overwrite. This can be done using the format method of strings. The format method allows you to make a string take a fixed amount of characters, filling the remainder with spaces as follows:"
      ]
    },
    {
      "cell_type": "code",
      "metadata": {
        "id": "muAlEwdP1E6q",
        "colab_type": "code",
        "colab": {
          "base_uri": "https://localhost:8080/",
          "height": 34
        },
        "outputId": "e8a13b18-55d0-4604-fb59-fdd99355d704"
      },
      "source": [
        "curr = 12\n",
        "total = 21\n",
        "frac = curr/total\n",
        "print('[{:>7.2%}]'.format(frac))"
      ],
      "execution_count": 8,
      "outputs": [
        {
          "output_type": "stream",
          "text": [
            "[ 57.14%]\n"
          ],
          "name": "stdout"
        }
      ]
    },
    {
      "cell_type": "markdown",
      "metadata": {
        "id": "cOC-JLB6x2hP",
        "colab_type": "text"
      },
      "source": [
        "The formatting code is the \"{:>7.2%}\", where \">\" means that the string is be right aligned with spaces added to the front, \"7\" is the fixed length of the string + padded spaces (3 whole number digits + a point + 2 decimal digits + a percentage sign) \".2\" is the number of decimal places to round the percentage to, and \"%\" means that the fraction should be expressed as a percentage."
      ]
    },
    {
      "cell_type": "markdown",
      "metadata": {
        "id": "GxrDEJBZx7yn",
        "colab_type": "text"
      },
      "source": [
        "\n",
        "\n",
        "---\n",
        "\n",
        "\n",
        "Replicated strings\n",
        "\n",
        "When displaying a progress bar it would also be useful to know that you can replicate a string for a number of times using the '*' operator, as follows:"
      ]
    },
    {
      "cell_type": "code",
      "metadata": {
        "id": "a73rYNdj1lYA",
        "colab_type": "code",
        "colab": {
          "base_uri": "https://localhost:8080/",
          "height": 34
        },
        "outputId": "7a19dd7f-c69e-4c50-e975-ce21280c8fb9"
      },
      "source": [
        "curr = 12\n",
        "total = 21\n",
        "full_progbar = 10\n",
        "filled_progbar = round(curr/total*full_progbar)\n",
        "print('#'*filled_progbar + '-'*(full_progbar-filled_progbar))"
      ],
      "execution_count": 18,
      "outputs": [
        {
          "output_type": "stream",
          "text": [
            "######----\n"
          ],
          "name": "stdout"
        }
      ]
    },
    {
      "cell_type": "markdown",
      "metadata": {
        "id": "jVoFU8TWyXXD",
        "colab_type": "text"
      },
      "source": [
        "Full example\n",
        "\n",
        "Here is a full progress bar example:"
      ]
    },
    {
      "cell_type": "code",
      "metadata": {
        "id": "Z60MikD3160P",
        "colab_type": "code",
        "colab": {
          "base_uri": "https://localhost:8080/",
          "height": 34
        },
        "outputId": "0195a7ad-909d-48a6-8375-7702bafc4de2"
      },
      "source": [
        "def progbar(curr, total, full_progbar):\n",
        "    frac = curr/total\n",
        "    filled_progbar = round(frac*full_progbar)\n",
        "    print('\\r', '#'*filled_progbar + '-'*(full_progbar-filled_progbar), '[{:>7.2%}]'.format(frac), end='')\n",
        "    #sys.stdout.flush()\n",
        " \n",
        "for i in range(1000+1):\n",
        "    progbar(i, 1000, 20)\n",
        "print()"
      ],
      "execution_count": 23,
      "outputs": [
        {
          "output_type": "stream",
          "text": [
            " #################### [100.00%]\n"
          ],
          "name": "stdout"
        }
      ]
    },
    {
      "cell_type": "markdown",
      "metadata": {
        "id": "njWpJ5xlym7Q",
        "colab_type": "text"
      },
      "source": [
        "A full progress bar plu a rotating cursor"
      ]
    },
    {
      "cell_type": "code",
      "metadata": {
        "id": "b7JGdjAk23T3",
        "colab_type": "code",
        "colab": {
          "base_uri": "https://localhost:8080/",
          "height": 34
        },
        "outputId": "61430ead-eda9-4310-9271-c04fc4fbf4d8"
      },
      "source": [
        "import sys\n",
        "def progbar(curr, total, full_progbar, c):\n",
        "    frac = curr/total\n",
        "    filled_progbar = round(frac*full_progbar)\n",
        "    print('\\r', '#'*filled_progbar + '-'*(full_progbar-filled_progbar), '[{:>7.2%}]'.format(frac), c, end='')\n",
        "    sys.stdout.flush()\n",
        "c_list = '—\\|/—\\|/' \n",
        "for i in range(1000+1):\n",
        "    j = i%8\n",
        "    #c = '/'\n",
        "    c= c_list[j]\n",
        "    if(i==1000): c=''\n",
        "    progbar(i, 1000, 60, c)\n",
        "print()"
      ],
      "execution_count": 24,
      "outputs": [
        {
          "output_type": "stream",
          "text": [
            " ############################################################ [100.00%] \n"
          ],
          "name": "stdout"
        }
      ]
    }
  ]
}