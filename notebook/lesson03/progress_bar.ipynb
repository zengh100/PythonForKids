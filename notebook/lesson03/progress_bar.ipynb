{
  "nbformat": 4,
  "nbformat_minor": 0,
  "metadata": {
    "colab": {
      "name": "progress_bar.ipynb",
      "provenance": [],
      "collapsed_sections": [],
      "include_colab_link": true
    },
    "kernelspec": {
      "name": "python3",
      "display_name": "Python 3"
    }
  },
  "cells": [
    {
      "cell_type": "markdown",
      "metadata": {
        "id": "view-in-github",
        "colab_type": "text"
      },
      "source": [
        "<a href=\"https://colab.research.google.com/github/zengh100/PythonForKids/blob/master/notebook/lesson03/progress_bar.ipynb\" target=\"_parent\"><img src=\"https://colab.research.google.com/assets/colab-badge.svg\" alt=\"Open In Colab\"/></a>"
      ]
    },
    {
      "cell_type": "code",
      "metadata": {
        "id": "x4Zr_aYalMQm",
        "colab_type": "code",
        "colab": {
          "base_uri": "https://localhost:8080/",
          "height": 69
        },
        "outputId": "dee0d108-f44f-487a-f980-9cbdb6668ad7"
      },
      "source": [
        "import sys\n",
        "print('1xy\\bz')\n",
        "print('2xy\\bz')\n",
        "\n",
        "def f():\n",
        "     print('3xy', end='')\n",
        "     print('\\bz')\n",
        "f() \n",
        "\n",
        "#sys.stdout.write(\"Download progress: %d%%   \\r\" % (progress) )\n",
        "#sys.stdout.flush()"
      ],
      "execution_count": 6,
      "outputs": [
        {
          "output_type": "stream",
          "text": [
            "1xy\bz\n",
            "2xy\bz\n",
            "3xy\bz\n"
          ],
          "name": "stdout"
        }
      ]
    },
    {
      "cell_type": "code",
      "metadata": {
        "id": "aEbQ6Bqh02TR",
        "colab_type": "code",
        "colab": {
          "base_uri": "https://localhost:8080/",
          "height": 34
        },
        "outputId": "941cb111-41e0-454d-d20f-5599eb461702"
      },
      "source": [
        "def g():\n",
        "     sys.stdout.write('xy')\n",
        "     sys.stdout.write('\\bz\\n')\n",
        "g()"
      ],
      "execution_count": 7,
      "outputs": [
        {
          "output_type": "stream",
          "text": [
            "xy\bz\n"
          ],
          "name": "stdout"
        }
      ]
    },
    {
      "cell_type": "code",
      "metadata": {
        "id": "muAlEwdP1E6q",
        "colab_type": "code",
        "colab": {
          "base_uri": "https://localhost:8080/",
          "height": 34
        },
        "outputId": "e8a13b18-55d0-4604-fb59-fdd99355d704"
      },
      "source": [
        "curr = 12\n",
        "total = 21\n",
        "frac = curr/total\n",
        "print('[{:>7.2%}]'.format(frac))"
      ],
      "execution_count": 8,
      "outputs": [
        {
          "output_type": "stream",
          "text": [
            "[ 57.14%]\n"
          ],
          "name": "stdout"
        }
      ]
    },
    {
      "cell_type": "code",
      "metadata": {
        "id": "a73rYNdj1lYA",
        "colab_type": "code",
        "colab": {
          "base_uri": "https://localhost:8080/",
          "height": 34
        },
        "outputId": "dbf4a958-4ad5-4f67-cd0e-4a00a6c8811f"
      },
      "source": [
        "curr = 12\n",
        "total = 21\n",
        "full_progbar = 10\n",
        "filled_progbar = round(curr/total*full_progbar)\n",
        "print('#'*filled_progbar + '-'*(full_progbar-filled_progbar))"
      ],
      "execution_count": 9,
      "outputs": [
        {
          "output_type": "stream",
          "text": [
            "######----\n"
          ],
          "name": "stdout"
        }
      ]
    },
    {
      "cell_type": "code",
      "metadata": {
        "id": "Z60MikD3160P",
        "colab_type": "code",
        "colab": {
          "base_uri": "https://localhost:8080/",
          "height": 34
        },
        "outputId": "3f4d632f-4a04-4498-d30c-7b9fa5c061dc"
      },
      "source": [
        "def progbar(curr, total, full_progbar):\n",
        "    frac = curr/total\n",
        "    filled_progbar = round(frac*full_progbar)\n",
        "    print('\\r', '#'*filled_progbar + '-'*(full_progbar-filled_progbar), '[{:>7.2%}]'.format(frac), end='')\n",
        "    sys.stdout.flush()\n",
        " \n",
        "for i in range(1000+1):\n",
        "    progbar(i, 1000, 20)\n",
        "print()"
      ],
      "execution_count": 13,
      "outputs": [
        {
          "output_type": "stream",
          "text": [
            " #################### [100.00%]\n"
          ],
          "name": "stdout"
        }
      ]
    },
    {
      "cell_type": "code",
      "metadata": {
        "id": "b7JGdjAk23T3",
        "colab_type": "code",
        "colab": {
          "base_uri": "https://localhost:8080/",
          "height": 34
        },
        "outputId": "06b05391-cb73-4976-c8ec-5bf3d969cb59"
      },
      "source": [
        "import sys\n",
        "def progbar(curr, total, full_progbar, c):\n",
        "    frac = curr/total\n",
        "    filled_progbar = round(frac*full_progbar)\n",
        "    print('\\r', '#'*filled_progbar + '-'*(full_progbar-filled_progbar), '[{:>7.2%}]'.format(frac), c, end='')\n",
        "    sys.stdout.flush()\n",
        "c_list = '—\\|/—\\|/' \n",
        "for i in range(1000+1):\n",
        "    j = i%8\n",
        "    #c = '/'\n",
        "    c= c_list[j]\n",
        "    if(i==1000): c=''\n",
        "    progbar(i, 1000, 60, c)\n",
        "print()"
      ],
      "execution_count": 34,
      "outputs": [
        {
          "output_type": "stream",
          "text": [
            " ############################################################ [100.00%] \n"
          ],
          "name": "stdout"
        }
      ]
    }
  ]
}