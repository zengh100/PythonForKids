{
  "nbformat": 4,
  "nbformat_minor": 0,
  "metadata": {
    "colab": {
      "name": "using print.ipynb",
      "provenance": [],
      "include_colab_link": true
    },
    "kernelspec": {
      "name": "python3",
      "display_name": "Python 3"
    }
  },
  "cells": [
    {
      "cell_type": "markdown",
      "metadata": {
        "id": "view-in-github",
        "colab_type": "text"
      },
      "source": [
        "<a href=\"https://colab.research.google.com/github/zengh100/PythonForKids/blob/master/notebook/lesson03/01_using_print.ipynb\" target=\"_parent\"><img src=\"https://colab.research.google.com/assets/colab-badge.svg\" alt=\"Open In Colab\"/></a>"
      ]
    },
    {
      "cell_type": "code",
      "metadata": {
        "id": "u7Rqtnh2dPJR",
        "colab_type": "code",
        "colab": {
          "base_uri": "https://localhost:8080/",
          "height": 105
        },
        "outputId": "377e685d-622b-42a0-bcf3-ca093c057cee"
      },
      "source": [
        "# Using print\n",
        "\n",
        "\"\"\"\n",
        "Displaying information is probably the most core concept of learning any new programming language. \n",
        "In Python that's done by using print.\n",
        "https://www.youtube.com/watch?v=FhoASwgvZHk\n",
        "\"\"\"\n",
        "\n",
        "# Each print statements starts on a new line\n",
        "print('Hello world')\n",
        "\n",
        "# If you pass nothing to the print statement you get a blank line\n",
        "print()\n",
        "print('Did you see that blank line?')\n",
        "\n",
        "# '\\n' is a special character sequence that means print new line\n",
        "# you can use it to break the output over multiple lines\n",
        "print('Blank line \\nin the middle of string')"
      ],
      "execution_count": 1,
      "outputs": [
        {
          "output_type": "stream",
          "text": [
            "Hello world\n",
            "\n",
            "Did you see that blank line?\n",
            "Blank line \n",
            "in the middle of string\n"
          ],
          "name": "stdout"
        }
      ]
    }
  ]
}