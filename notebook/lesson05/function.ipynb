{
  "nbformat": 4,
  "nbformat_minor": 0,
  "metadata": {
    "colab": {
      "name": "function.ipynb",
      "provenance": [],
      "collapsed_sections": [],
      "include_colab_link": true
    },
    "kernelspec": {
      "name": "python3",
      "display_name": "Python 3"
    }
  },
  "cells": [
    {
      "cell_type": "markdown",
      "metadata": {
        "id": "view-in-github",
        "colab_type": "text"
      },
      "source": [
        "<a href=\"https://colab.research.google.com/github/zengh100/PythonForKids/blob/master/notebook/lesson05/function.ipynb\" target=\"_parent\"><img src=\"https://colab.research.google.com/assets/colab-badge.svg\" alt=\"Open In Colab\"/></a>"
      ]
    },
    {
      "cell_type": "markdown",
      "metadata": {
        "id": "XCK8ypKS45cK",
        "colab_type": "text"
      },
      "source": [
        "Pyhton Functions\n",
        "\n",
        "[watch video](https://www.youtube.com/watch?v=NSbOtYzIQI0)\n",
        "\n",
        "\n",
        "[explainations](https://www.guru99.com/functions-in-python.html)"
      ]
    },
    {
      "cell_type": "markdown",
      "metadata": {
        "id": "W_5y_lbe9RyZ",
        "colab_type": "text"
      },
      "source": [
        "How to define a function\n",
        "\n",
        "def functionName(arguments)\n",
        "\n",
        "    line 1\n",
        "    line 2\n",
        "    line 3\n",
        "    \n",
        "end of the function\n"
      ]
    },
    {
      "cell_type": "code",
      "metadata": {
        "id": "84ADj-Pl4Gu0",
        "colab_type": "code",
        "outputId": "527b58ec-03c5-4771-f655-ba8573d0652c",
        "colab": {
          "base_uri": "https://localhost:8080/",
          "height": 137
        }
      },
      "source": [
        "# how to define a function\n",
        "\n",
        "def function1():\n",
        "    print('first line ')\n",
        "    print('second line ')\n",
        "    print('third line ')\n",
        "print(\"This line is not part of the function\")\n",
        "function1()\n",
        "function1()\n"
      ],
      "execution_count": 7,
      "outputs": [
        {
          "output_type": "stream",
          "text": [
            "This line is not part of the function\n",
            "first line \n",
            "second line \n",
            "third line \n",
            "first line \n",
            "second line \n",
            "third line \n"
          ],
          "name": "stdout"
        }
      ]
    },
    {
      "cell_type": "code",
      "metadata": {
        "id": "LhFv2InnBxlt",
        "colab_type": "code",
        "colab": {}
      },
      "source": [
        "def function2(x)\n",
        "  print(x)\n",
        "  print(x*2)\n"
      ],
      "execution_count": 0,
      "outputs": []
    }
  ]
}