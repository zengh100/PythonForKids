{
  "nbformat": 4,
  "nbformat_minor": 0,
  "metadata": {
    "colab": {
      "name": "function.ipynb",
      "provenance": [],
      "collapsed_sections": [],
      "include_colab_link": true
    },
    "kernelspec": {
      "name": "python3",
      "display_name": "Python 3"
    }
  },
  "cells": [
    {
      "cell_type": "markdown",
      "metadata": {
        "id": "view-in-github",
        "colab_type": "text"
      },
      "source": [
        "<a href=\"https://colab.research.google.com/github/zengh100/PythonForKids/blob/master/notebook/lesson05/function.ipynb\" target=\"_parent\"><img src=\"https://colab.research.google.com/assets/colab-badge.svg\" alt=\"Open In Colab\"/></a>"
      ]
    },
    {
      "cell_type": "markdown",
      "metadata": {
        "id": "XCK8ypKS45cK",
        "colab_type": "text"
      },
      "source": [
        "Pyhton Functions\n",
        "\n",
        "[watch video](https://www.youtube.com/watch?v=NSbOtYzIQI0)"
      ]
    },
    {
      "cell_type": "code",
      "metadata": {
        "id": "84ADj-Pl4Gu0",
        "colab_type": "code",
        "colab": {
          "base_uri": "https://localhost:8080/",
          "height": 35
        },
        "outputId": "1ea02b91-99ab-4593-c70a-1a4beaaa6682"
      },
      "source": [
        "# how to define a function\n",
        "\n",
        "def function_name():\n",
        "    print('first line in this function')\n",
        "    print('second line in this function')\n",
        "print(\"This line is not part of the function\")\n"
      ],
      "execution_count": 1,
      "outputs": [
        {
          "output_type": "stream",
          "text": [
            "This line is not part of the function\n"
          ],
          "name": "stdout"
        }
      ]
    }
  ]
}