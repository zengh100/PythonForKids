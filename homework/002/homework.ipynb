{
  "nbformat": 4,
  "nbformat_minor": 0,
  "metadata": {
    "colab": {
      "name": "homework.ipynb",
      "provenance": [],
      "include_colab_link": true
    },
    "kernelspec": {
      "name": "python3",
      "display_name": "Python 3"
    }
  },
  "cells": [
    {
      "cell_type": "markdown",
      "metadata": {
        "id": "view-in-github",
        "colab_type": "text"
      },
      "source": [
        "<a href=\"https://colab.research.google.com/github/zengh100/PythonForKids/blob/master/homework/002/homework.ipynb\" target=\"_parent\"><img src=\"https://colab.research.google.com/assets/colab-badge.svg\" alt=\"Open In Colab\"/></a>"
      ]
    },
    {
      "cell_type": "markdown",
      "metadata": {
        "id": "euYmUu1EgZ_K",
        "colab_type": "text"
      },
      "source": [
        "This assignment requires to use Google Colab which was taught in our last class. Here is the link: https://colab.research.google.com/notebooks/intro.ipynb.\n",
        "\n",
        "Step 1. Open Google Colab (use the link above)\n",
        "\n",
        "Step 2. Use Colab to create a new Python3 notebook: Click on File and then new Python3 notebook\n",
        "\n",
        "Step 3. Type in the following python code\n",
        "\n",
        "> Before you run the code, manually do the math in your mind, or use a piece of paper as you wish. \n",
        "\n",
        "![alt text](http://files.alfresco.mjh.group/alfresco_images/pharma//2019/07/12/f48f614a-c936-4518-ad2c-8a209e6bc502/Thinking%20Small.jpg)\n",
        "\n",
        "> After you are done with math and figure out what a, b,c would be in the end of the program, Run the code you just type in. Check if your results are the same as what program prints out.\n",
        "\n",
        "Step 4. Run the code you type in\n",
        "\n",
        "> Click on the play button (left-top). It should run and print out a,b, and c. if you don't see the play button, hove you mouse to top-left corner of your code. Sometimes they show as [ ]\n"
      ]
    },
    {
      "cell_type": "code",
      "metadata": {
        "id": "ir37B076gVdo",
        "colab_type": "code",
        "colab": {
          "base_uri": "https://localhost:8080/",
          "height": 69
        },
        "outputId": "5a3a0279-c7b7-4ba2-9729-9c9f950d7c1c"
      },
      "source": [
        "# Type the Python code below in to you Python3 notebook \n",
        "a=1\n",
        "b=2\n",
        "a=b+a\n",
        "c=b+a\n",
        "print('a=', a)\n",
        "print('b=', b)\n",
        "print('c=', c)"
      ],
      "execution_count": 2,
      "outputs": [
        {
          "output_type": "stream",
          "text": [
            "a= 3\n",
            "b= 2\n",
            "c= 5\n"
          ],
          "name": "stdout"
        }
      ]
    },
    {
      "cell_type": "markdown",
      "metadata": {
        "id": "HRNXLb_3imf7",
        "colab_type": "text"
      },
      "source": [
        "Do you get the same results as the Python program gets?"
      ]
    }
  ]
}