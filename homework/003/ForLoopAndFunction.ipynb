{
  "nbformat": 4,
  "nbformat_minor": 0,
  "metadata": {
    "colab": {
      "name": "Copy of Untitled2.ipynb",
      "provenance": [],
      "collapsed_sections": [],
      "include_colab_link": true
    },
    "kernelspec": {
      "name": "python3",
      "display_name": "Python 3"
    }
  },
  "cells": [
    {
      "cell_type": "markdown",
      "metadata": {
        "id": "view-in-github",
        "colab_type": "text"
      },
      "source": [
        "<a href=\"https://colab.research.google.com/github/zengh100/PythonForKids/blob/master/homework/003/ForLoopAndFunction.ipynb\" target=\"_parent\"><img src=\"https://colab.research.google.com/assets/colab-badge.svg\" alt=\"Open In Colab\"/></a>"
      ]
    },
    {
      "cell_type": "markdown",
      "metadata": {
        "id": "4FbGToBdci0X",
        "colab_type": "text"
      },
      "source": [
        "# Homework (PthonForKids)\n",
        "# Using for loop\n",
        "The follwoing code runs ok."
      ]
    },
    {
      "cell_type": "code",
      "metadata": {
        "id": "U3obB9ZXchEI",
        "colab_type": "code",
        "outputId": "24708ad2-0afd-4ef8-ba4e-c82269a5a3a2",
        "colab": {
          "base_uri": "https://localhost:8080/",
          "height": 102
        }
      },
      "source": [
        "print(0)\n",
        "print(1)\n",
        "print(2)\n",
        "print(3)\n",
        "print(4)"
      ],
      "execution_count": 0,
      "outputs": [
        {
          "output_type": "stream",
          "text": [
            "0\n",
            "1\n",
            "2\n",
            "3\n",
            "4\n"
          ],
          "name": "stdout"
        }
      ]
    },
    {
      "cell_type": "markdown",
      "metadata": {
        "id": "LU6frPH_dONe",
        "colab_type": "text"
      },
      "source": [
        "But it can be more efficient if using for loop as below:"
      ]
    },
    {
      "cell_type": "code",
      "metadata": {
        "id": "R5-pEi3oUGQq",
        "colab_type": "code",
        "outputId": "990c953c-eb72-4dbb-a65f-c860c98bd7ba",
        "colab": {
          "base_uri": "https://localhost:8080/",
          "height": 102
        }
      },
      "source": [
        "for i in range(5):\n",
        "  print(i)"
      ],
      "execution_count": 0,
      "outputs": [
        {
          "output_type": "stream",
          "text": [
            "0\n",
            "1\n",
            "2\n",
            "3\n",
            "4\n"
          ],
          "name": "stdout"
        }
      ]
    },
    {
      "cell_type": "markdown",
      "metadata": {
        "id": "3GjsDfxurj1k",
        "colab_type": "text"
      },
      "source": [
        "#Using function\n",
        "The following code runs ok:"
      ]
    },
    {
      "cell_type": "code",
      "metadata": {
        "id": "uVU1lkcDcMQX",
        "colab_type": "code",
        "outputId": "a6976ed5-fdd8-403d-eff4-d5b112e76d4f",
        "colab": {
          "base_uri": "https://localhost:8080/",
          "height": 272
        }
      },
      "source": [
        "for i in range(3):\n",
        "  print(i)\n",
        "\n",
        "for i in range(5):\n",
        "  print(i)\n",
        "\n",
        "for i in range(7):\n",
        "  print(i)\n"
      ],
      "execution_count": 0,
      "outputs": [
        {
          "output_type": "stream",
          "text": [
            "0\n",
            "1\n",
            "2\n",
            "0\n",
            "1\n",
            "2\n",
            "3\n",
            "4\n",
            "0\n",
            "1\n",
            "2\n",
            "3\n",
            "4\n",
            "5\n",
            "6\n"
          ],
          "name": "stdout"
        }
      ]
    },
    {
      "cell_type": "markdown",
      "metadata": {
        "id": "7B_P3MhAr9rr",
        "colab_type": "text"
      },
      "source": [
        "But it is more convenient to define a function and call the function many times as you wish"
      ]
    },
    {
      "cell_type": "code",
      "metadata": {
        "id": "QQ231CmoeBRm",
        "colab_type": "code",
        "outputId": "fc8e9cb6-c51c-4174-8ac6-05658e0f3218",
        "colab": {
          "base_uri": "https://localhost:8080/",
          "height": 272
        }
      },
      "source": [
        "def func(n):\n",
        "  for i in range(n):\n",
        "    print(i)\n",
        "func(3)\n",
        "func(5)\n",
        "func(7)"
      ],
      "execution_count": 0,
      "outputs": [
        {
          "output_type": "stream",
          "text": [
            "0\n",
            "1\n",
            "2\n",
            "0\n",
            "1\n",
            "2\n",
            "3\n",
            "4\n",
            "0\n",
            "1\n",
            "2\n",
            "3\n",
            "4\n",
            "5\n",
            "6\n"
          ],
          "name": "stdout"
        }
      ]
    },
    {
      "cell_type": "markdown",
      "metadata": {
        "id": "IXFhw8FrsXzy",
        "colab_type": "text"
      },
      "source": [
        "# Read the following code and see how much you can much you can understabd it.\n",
        "note: '\\r' and end='' work togather to keep print at the same line, same place \n"
      ]
    },
    {
      "cell_type": "code",
      "metadata": {
        "id": "_tncuW_HfZnI",
        "colab_type": "code",
        "outputId": "8b435175-385e-41f1-f3da-0a9d3f6eb7d5",
        "colab": {
          "base_uri": "https://localhost:8080/",
          "height": 34
        }
      },
      "source": [
        "import time\n",
        "def animation(n):\n",
        "  c_list = '—\\|/—\\|/' \n",
        "  for i in range(n):\n",
        "      j = i%8\n",
        "      c= c_list[j]\n",
        "      print('\\r', 'i=', i, ', j=',j, c, end='')\n",
        "      time.sleep(0.900) #pause for 0.9 second before going to next loop\n",
        "animation(16)"
      ],
      "execution_count": 2,
      "outputs": [
        {
          "output_type": "stream",
          "text": [
            " i= 15 , j= 7 /"
          ],
          "name": "stdout"
        }
      ]
    }
  ]
}