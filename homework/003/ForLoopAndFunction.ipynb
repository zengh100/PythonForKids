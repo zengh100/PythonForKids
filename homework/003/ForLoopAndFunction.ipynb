{
  "nbformat": 4,
  "nbformat_minor": 0,
  "metadata": {
    "colab": {
      "name": "ForLoopAndFunction.ipynb",
      "provenance": [],
      "collapsed_sections": [],
      "include_colab_link": true
    },
    "kernelspec": {
      "name": "python3",
      "display_name": "Python 3"
    }
  },
  "cells": [
    {
      "cell_type": "markdown",
      "metadata": {
        "id": "view-in-github",
        "colab_type": "text"
      },
      "source": [
        "<a href=\"https://colab.research.google.com/github/zengh100/PythonForKids/blob/master/homework/003/ForLoopAndFunction.ipynb\" target=\"_parent\"><img src=\"https://colab.research.google.com/assets/colab-badge.svg\" alt=\"Open In Colab\"/></a>"
      ]
    },
    {
      "cell_type": "markdown",
      "metadata": {
        "id": "4FbGToBdci0X",
        "colab_type": "text"
      },
      "source": [
        "# Homework (PthonForKids)\n",
        "\n",
        "Step 1. ([open this within colab](https://colab.research.google.com/github/zengh100/PythonForKids/blob/master/homework/003/ForLoopAndFunction.ipynb))\n",
        "\n",
        "Step 2 . Click menu \"Edit\" and click menu item \"clear all output\" to hide outputs.\n",
        "\n",
        "Step 3. Please read the following code first and predict what is gpoing to be displayed on the screen. and then run the code to see if your prediction is correct.\n",
        "\n",
        "There are 5 sections. Please start from top and finish as much as you can\n",
        "\n",
        "# Using for loop\n",
        "\n",
        "![alt text](https://github.com/zengh100/PythonForKids/blob/master/image/ForLoop.jpg?raw=true)\n",
        "\n",
        "The follwoing code runs ok."
      ]
    },
    {
      "cell_type": "code",
      "metadata": {
        "id": "U3obB9ZXchEI",
        "colab_type": "code",
        "colab": {}
      },
      "source": [
        "print(0)\n",
        "print(1)\n",
        "print(2)\n",
        "print(3)\n",
        "print(4)"
      ],
      "execution_count": 0,
      "outputs": []
    },
    {
      "cell_type": "markdown",
      "metadata": {
        "id": "LU6frPH_dONe",
        "colab_type": "text"
      },
      "source": [
        "But it can be more efficient if using for loop as below:"
      ]
    },
    {
      "cell_type": "code",
      "metadata": {
        "id": "R5-pEi3oUGQq",
        "colab_type": "code",
        "colab": {}
      },
      "source": [
        "for i in range(5):\n",
        "  print(i)"
      ],
      "execution_count": 0,
      "outputs": []
    },
    {
      "cell_type": "markdown",
      "metadata": {
        "id": "3GjsDfxurj1k",
        "colab_type": "text"
      },
      "source": [
        "#Using function\n",
        "\n",
        "![alt text](https://www.guru99.com/images/Pythonnew/Python10.1.png)\n",
        "The following code runs ok:"
      ]
    },
    {
      "cell_type": "code",
      "metadata": {
        "id": "uVU1lkcDcMQX",
        "colab_type": "code",
        "colab": {}
      },
      "source": [
        "for i in range(3):\n",
        "  print(i)\n",
        "\n",
        "for i in range(5):\n",
        "  print(i)\n",
        "\n",
        "for i in range(7):\n",
        "  print(i)\n"
      ],
      "execution_count": 0,
      "outputs": []
    },
    {
      "cell_type": "markdown",
      "metadata": {
        "id": "7B_P3MhAr9rr",
        "colab_type": "text"
      },
      "source": [
        "But it is more convenient to define a function and call the function many times as you wish"
      ]
    },
    {
      "cell_type": "code",
      "metadata": {
        "id": "QQ231CmoeBRm",
        "colab_type": "code",
        "colab": {}
      },
      "source": [
        "def func(n):\n",
        "  for i in range(n):\n",
        "    print(i)\n",
        "func(3)\n",
        "func(5)\n",
        "func(7)"
      ],
      "execution_count": 0,
      "outputs": []
    },
    {
      "cell_type": "markdown",
      "metadata": {
        "id": "IXFhw8FrsXzy",
        "colab_type": "text"
      },
      "source": [
        "# Read the following code and see how much you can much you can understabd it.\n",
        "note: '\\r' and end='' work togather to keep print at the same line, same place \n"
      ]
    },
    {
      "cell_type": "code",
      "metadata": {
        "id": "_tncuW_HfZnI",
        "colab_type": "code",
        "colab": {}
      },
      "source": [
        "import time\n",
        "def animation(n):\n",
        "  c_list = '—\\|/—\\|/' \n",
        "  for i in range(n):\n",
        "      j = i%8\n",
        "      c= c_list[j]\n",
        "      print('\\r', 'i=', i, ', j=',j, c, end='')\n",
        "      time.sleep(0.900) #pause for 0.9 second before going to next loop\n",
        "animation(16)"
      ],
      "execution_count": 0,
      "outputs": []
    }
  ]
}