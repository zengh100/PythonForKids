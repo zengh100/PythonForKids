{
  "nbformat": 4,
  "nbformat_minor": 0,
  "metadata": {
    "colab": {
      "name": "homework004.ipynb",
      "provenance": [],
      "collapsed_sections": [],
      "include_colab_link": true
    },
    "kernelspec": {
      "name": "python3",
      "display_name": "Python 3"
    }
  },
  "cells": [
    {
      "cell_type": "markdown",
      "metadata": {
        "id": "view-in-github",
        "colab_type": "text"
      },
      "source": [
        "<a href=\"https://colab.research.google.com/github/zengh100/PythonForKids/blob/master/homework/oo4/homework004.ipynb\" target=\"_parent\"><img src=\"https://colab.research.google.com/assets/colab-badge.svg\" alt=\"Open In Colab\"/></a>"
      ]
    },
    {
      "cell_type": "markdown",
      "metadata": {
        "id": "NkIqDHb7ZkLt",
        "colab_type": "text"
      },
      "source": [
        "# **Homework**"
      ]
    },
    {
      "cell_type": "code",
      "metadata": {
        "id": "MZ7Sy0IvWv0A",
        "colab_type": "code",
        "colab": {}
      },
      "source": [
        "# sum up numbers between [1, 5]  (including 5) \n",
        "# your task: Change question marks (?) below to the corect number  \n",
        "start = ?\n",
        "step = ?\n",
        "stop = ?\n",
        "# use the code below to check if you get all the number\n",
        "print(list(range(start,stop,step)))\n",
        "\n",
        "# Now let's do the sum\n",
        "total = ?\n",
        "for i in range(1, ?):\n",
        "  total = total + i\n",
        "  #print(i, total)\n",
        "print(\"the total is \", total)"
      ],
      "execution_count": 0,
      "outputs": []
    },
    {
      "cell_type": "markdown",
      "metadata": {
        "id": "jz1X67aWW8U4",
        "colab_type": "text"
      },
      "source": [
        "## Challenge Yourself!"
      ]
    },
    {
      "cell_type": "code",
      "metadata": {
        "id": "lwkzQuOSXOK3",
        "colab_type": "code",
        "colab": {}
      },
      "source": [
        "# sum up numbers between [1, 50] (including 50) that are multiple of 5 \n",
        "start = ?\n",
        "step = ?\n",
        "stop = ?\n",
        "# use the code below to check if you get all the number\n",
        "# print(list(range(start,stop,step)))\n",
        "\n",
        "# now let's pick the number that are multiple of 5 and add them up\n",
        "total = ?\n",
        "for i in range(1, ?):\n",
        "  if(i%step == 0): #This is to choose multiples of 5\n",
        "    total = total + i\n",
        "print(\"the total is \", total)"
      ],
      "execution_count": 0,
      "outputs": []
    }
  ]
}