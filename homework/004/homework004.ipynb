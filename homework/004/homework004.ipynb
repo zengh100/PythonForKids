{
  "nbformat": 4,
  "nbformat_minor": 0,
  "metadata": {
    "colab": {
      "name": "homework004.ipynb",
      "provenance": [],
      "collapsed_sections": [],
      "include_colab_link": true
    },
    "kernelspec": {
      "name": "python3",
      "display_name": "Python 3"
    }
  },
  "cells": [
    {
      "cell_type": "markdown",
      "metadata": {
        "id": "view-in-github",
        "colab_type": "text"
      },
      "source": [
        "<a href=\"https://colab.research.google.com/github/zengh100/PythonForKids/blob/master/homework/004/homework004.ipynb\" target=\"_parent\"><img src=\"https://colab.research.google.com/assets/colab-badge.svg\" alt=\"Open In Colab\"/></a>"
      ]
    },
    {
      "cell_type": "markdown",
      "metadata": {
        "id": "NkIqDHb7ZkLt",
        "colab_type": "text"
      },
      "source": [
        "# **Homework**"
      ]
    },
    {
      "cell_type": "code",
      "metadata": {
        "id": "MZ7Sy0IvWv0A",
        "colab_type": "code",
        "colab": {}
      },
      "source": [
        "# sum up numbers between [1, 5]  (these numbers are 1,2,3,4,5) \n",
        "# your task: Change question marks (?) below (there are 4 ?) to the corect numbers. \n",
        "start = ?\n",
        "step  = ?\n",
        "stop  = ?\n",
        "# use the code below to check if you get all the numbers (the last number should be 5)\n",
        "print(list(range(start,stop,step)))\n",
        "\n",
        "# Now let's do the sum\n",
        "total = ?\n",
        "for i in range(start, stop, step):\n",
        "  total = total + i\n",
        "  #print(i, total)\n",
        "print(\"the total is \", total)\n",
        "if(total == 15):\n",
        "  print(\"Incorrect! Check your code and try again.\")\n",
        "else:\n",
        "  print(\"Congrats! Your answer is correct!\")"
      ],
      "execution_count": 0,
      "outputs": []
    },
    {
      "cell_type": "markdown",
      "metadata": {
        "id": "jz1X67aWW8U4",
        "colab_type": "text"
      },
      "source": [
        "## Challenge Yourself!"
      ]
    },
    {
      "cell_type": "code",
      "metadata": {
        "id": "lwkzQuOSXOK3",
        "colab_type": "code",
        "outputId": "710aa553-fb46-4a1c-f452-3f922177cbcc",
        "colab": {
          "base_uri": "https://localhost:8080/",
          "height": 129
        }
      },
      "source": [
        "# your task: Change question marks (?) below (there are 5 ?) to the corect numbers  \n",
        "# list all numbers from 1 to 50 (include 50)\n",
        "# They should be 1,2,4,5,6, ..., 49,50\n",
        "start = ?\n",
        "step = ?\n",
        "stop = ?\n",
        "# use the code below to check if you get all the numbers\n",
        "print(list(range(start,stop,step)))\n",
        "\n",
        "# now let's pick the numbers that are multiples of 5 and add them up\n",
        "total = ?\n",
        "for i in range(start, stop, step):\n",
        "  if(i%? == 0): #This is to choose multiples of 5\n",
        "    print(i)\n",
        "    total = total + i\n",
        "print(\"the total is \", total)\n",
        "if(total != 275):\n",
        "  print(\"Incorrect! Check your code and try again.\")\n",
        "else:\n",
        "  print(\"Congrats! Your answer is correct!\")"
      ],
      "execution_count": 1,
      "outputs": [
        {
          "output_type": "error",
          "ename": "SyntaxError",
          "evalue": "ignored",
          "traceback": [
            "\u001b[0;36m  File \u001b[0;32m\"<ipython-input-1-516a23a19350>\"\u001b[0;36m, line \u001b[0;32m1\u001b[0m\n\u001b[0;31m    start = ?\u001b[0m\n\u001b[0m            ^\u001b[0m\n\u001b[0;31mSyntaxError\u001b[0m\u001b[0;31m:\u001b[0m invalid syntax\n"
          ]
        }
      ]
    }
  ]
}