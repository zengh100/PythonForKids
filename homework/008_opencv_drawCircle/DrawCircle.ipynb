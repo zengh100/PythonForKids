{
  "nbformat": 4,
  "nbformat_minor": 0,
  "metadata": {
    "colab": {
      "name": "DrawCircle.ipynb",
      "provenance": [],
      "collapsed_sections": [],
      "include_colab_link": true
    },
    "kernelspec": {
      "name": "python3",
      "display_name": "Python 3"
    }
  },
  "cells": [
    {
      "cell_type": "markdown",
      "metadata": {
        "id": "view-in-github",
        "colab_type": "text"
      },
      "source": [
        "<a href=\"https://colab.research.google.com/github/zengh100/PythonForKids/blob/master/homework/008_opencv_drawCircle/DrawCircle.ipynb\" target=\"_parent\"><img src=\"https://colab.research.google.com/assets/colab-badge.svg\" alt=\"Open In Colab\"/></a>"
      ]
    },
    {
      "cell_type": "markdown",
      "metadata": {
        "id": "oZy77g292_hH",
        "colab_type": "text"
      },
      "source": [
        "**Homework**: How to define or change color?\n",
        "\n",
        "In OpenCV or image manipulation, 3 channels are used to define color(blue_channel, green_channel, red_channel). Each channel can be set from 0 to 255. Set the value to 255 if you need max of this channel.\n",
        "In our class, we define color=(0,0,255). This means we want maximum red with zero blue, and zero green. The resulted color is red.\n",
        "\n",
        "\n",
        "To use blue, change to \n",
        "color = (255, 0, 0)\n",
        "\n",
        "To use green, change to\n",
        "color = (0, 255, 0)\n",
        "\n",
        "You canl also try \n",
        "\n",
        "color = (255, 0, 255)\n",
        "\n",
        "to see what color you get\n",
        "\n"
      ]
    },
    {
      "cell_type": "code",
      "metadata": {
        "id": "ZfL_ekrp2taM",
        "colab_type": "code",
        "colab": {}
      },
      "source": [
        "import numpy as np\n",
        "import cv2\n",
        "\n",
        "height = 512\n",
        "width =768\n",
        "img = np.zeros((height,width,3))\n",
        "\n",
        "# Center coordinates \n",
        "center_coordinates = (120, 100) \n",
        "\n",
        "# Radius of circle \n",
        "radius = 30\n",
        "\n",
        "# in opencv, color is expressed in BGR. specifically (blut, green, red)\n",
        "# For blue, define color as (255, 0, 0)\n",
        "# For green, define color as (0, 255, 0)\n",
        "# For red, define color as (0, 0, 255)\n",
        "\n",
        "color = (0, 0, 255) \n",
        "\n",
        "# Line thickness of -1 px \n",
        "thickness = -1\n",
        "\n",
        "# Using cv2.circle() method \n",
        "# Draw a circle of red color of thickness -1 px \n",
        "cv2.circle(img, center_coordinates, radius, color, thickness) \n",
        "cv2.imshow(\"black image\", img)"
      ],
      "execution_count": 0,
      "outputs": []
    }
  ]
}