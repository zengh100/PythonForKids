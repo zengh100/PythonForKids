{
  "nbformat": 4,
  "nbformat_minor": 0,
  "metadata": {
    "colab": {
      "name": "Homework007.ipynb",
      "provenance": [],
      "collapsed_sections": [],
      "include_colab_link": true
    },
    "kernelspec": {
      "name": "python3",
      "display_name": "Python 3"
    }
  },
  "cells": [
    {
      "cell_type": "markdown",
      "metadata": {
        "id": "view-in-github",
        "colab_type": "text"
      },
      "source": [
        "<a href=\"https://colab.research.google.com/github/zengh100/PythonForKids/blob/master/homework/007/Homework007.ipynb\" target=\"_parent\"><img src=\"https://colab.research.google.com/assets/colab-badge.svg\" alt=\"Open In Colab\"/></a>"
      ]
    },
    {
      "cell_type": "markdown",
      "metadata": {
        "id": "2XNWKq-iVSrS",
        "colab_type": "text"
      },
      "source": [
        "**Write a function that will take as input two arguments x and y and return the multiplication of x and y.** \n",
        "\n",
        "This time you need to start from scratch, instead of that I provide you the majority of code and you only need to complete it. You can name the function on your own. So try hard not to look at any code we practiced from previous calsses, unless you get stuck.\n",
        "\n",
        "\n",
        "Furthermore, I want you are able to use google to search for the knowledge you need. In this case, for example, you could search key words such as \"how to write a python function?\"\n",
        "\n",
        "\n",
        "Once you have defined the function, try to use the function by calling the function with arguments.\n",
        "\n",
        "\n",
        "Let's call the function twice in your code. \n",
        "\n",
        "The first call uses arguments 3 and 4 (i.e pass 3 to x and pass 4 to y), so the expected returning value should be 12.\n",
        "\n",
        "The second call uses arguments 5 and 5 (i.e. both x and y will be 5), so the expected returning value will be 5*5 (i.e. 25).\n",
        "\n"
      ]
    },
    {
      "cell_type": "code",
      "metadata": {
        "id": "pXcKs6XZVJH_",
        "colab_type": "code",
        "colab": {}
      },
      "source": [
        ""
      ],
      "execution_count": 0,
      "outputs": []
    },
    {
      "cell_type": "markdown",
      "metadata": {
        "id": "SyBtLoIKcRfH",
        "colab_type": "text"
      },
      "source": [
        ""
      ]
    }
  ]
}