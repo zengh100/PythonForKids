{
  "nbformat": 4,
  "nbformat_minor": 0,
  "metadata": {
    "colab": {
      "name": "homework006.ipynb",
      "provenance": [],
      "collapsed_sections": [],
      "include_colab_link": true
    },
    "kernelspec": {
      "name": "python3",
      "display_name": "Python 3"
    }
  },
  "cells": [
    {
      "cell_type": "markdown",
      "metadata": {
        "id": "view-in-github",
        "colab_type": "text"
      },
      "source": [
        "<a href=\"https://colab.research.google.com/github/zengh100/PythonForKids/blob/master/homework/006/homework006.ipynb\" target=\"_parent\"><img src=\"https://colab.research.google.com/assets/colab-badge.svg\" alt=\"Open In Colab\"/></a>"
      ]
    },
    {
      "cell_type": "markdown",
      "metadata": {
        "id": "lWIwZu5bF1dl",
        "colab_type": "text"
      },
      "source": [
        "# Homework #6\n",
        "**Attention:**\n",
        "\n",
        "You may still use Google Colab. But please try to use Python 3.6 (we just installed in the class) to do your homework for coding. \n",
        "When you finish, take screenshots and sumbit them to our slack at \n",
        "\n",
        "[pythonforkids.slack.com](pythonforkids.slack.com)  \n",
        "\n",
        "You can submit your screenshots to me directly so others won't be able to see your.\n",
        "How to take screenshots? use key combination WindowsKey + Shitf + 's'. if you still don't know how, Google is your best friend! or simply use you parent's cellphone to take picture of your finished homework and send to me via Wechat. Explain this to your parent if necessary. But in any case, I will show you in the next class.\n",
        "\n",
        "**@Parents**: if you are interested, you are welcome to join our slack gang. Just send me your eamil address, and I will send you the invite. Or you can just use your kids' slack account. Each child has their own slack account and password.\n",
        "\n",
        "Here is our slack looks like:\n",
        "\n",
        "![alt text](https://raw.githubusercontent.com/zengh100/PythonForKids/master/image/SlackScreenshot.png)\n"
      ]
    },
    {
      "cell_type": "markdown",
      "metadata": {
        "id": "38iIgm0F9cAB",
        "colab_type": "text"
      },
      "source": [
        "## Get to know your computer system\n",
        "Explain how to find out your computer Operating System (OS) related information on a Windows computer."
      ]
    },
    {
      "cell_type": "code",
      "metadata": {
        "id": "qZ1k9uJkfSZY",
        "colab_type": "code",
        "colab": {}
      },
      "source": [
        ""
      ],
      "execution_count": 0,
      "outputs": []
    },
    {
      "cell_type": "markdown",
      "metadata": {
        "id": "N_Y-ARa899ce",
        "colab_type": "text"
      },
      "source": [
        "Can you tell about your compter:\n",
        "- Windows version: ??\n",
        "- Is the system type 32-bit or 64-bit? Which one is newer or better?\n",
        "- Memory size: how many GB?\n",
        "- CPU speed (HZ): ?\n"
      ]
    },
    {
      "cell_type": "markdown",
      "metadata": {
        "id": "qpjp9PBp_QiO",
        "colab_type": "text"
      },
      "source": [
        "We installed Python 3.6 for Windows today. \n",
        "- Was it 32-bit or 64-bit?\n",
        "- Why didn't we choose the other type."
      ]
    },
    {
      "cell_type": "markdown",
      "metadata": {
        "id": "AhbP6k_2AHaO",
        "colab_type": "text"
      },
      "source": [
        "# Find bugs in code and fix them!!\n",
        "What is wrong with the following code?"
      ]
    },
    {
      "cell_type": "code",
      "metadata": {
        "id": "FDOztrXbAfnt",
        "colab_type": "code",
        "colab": {
          "base_uri": "https://localhost:8080/",
          "height": 135
        },
        "outputId": "4a316748-8f6f-4606-d189-3008cb2c8b59"
      },
      "source": [
        "print(\"Hello)"
      ],
      "execution_count": 6,
      "outputs": [
        {
          "output_type": "error",
          "ename": "SyntaxError",
          "evalue": "ignored",
          "traceback": [
            "\u001b[0;36m  File \u001b[0;32m\"<ipython-input-6-e8dd6fae58d9>\"\u001b[0;36m, line \u001b[0;32m1\u001b[0m\n\u001b[0;31m    print(\"Hello)\u001b[0m\n\u001b[0m                 ^\u001b[0m\n\u001b[0;31mSyntaxError\u001b[0m\u001b[0;31m:\u001b[0m EOL while scanning string literal\n"
          ]
        }
      ]
    },
    {
      "cell_type": "code",
      "metadata": {
        "id": "6-GdQiqJAgOV",
        "colab_type": "code",
        "colab": {
          "base_uri": "https://localhost:8080/",
          "height": 135
        },
        "outputId": "d7a8e549-ee31-4971-eb90-4df25238bc9e"
      },
      "source": [
        "print('haha'"
      ],
      "execution_count": 7,
      "outputs": [
        {
          "output_type": "error",
          "ename": "SyntaxError",
          "evalue": "ignored",
          "traceback": [
            "\u001b[0;36m  File \u001b[0;32m\"<ipython-input-7-b2ee4b747282>\"\u001b[0;36m, line \u001b[0;32m1\u001b[0m\n\u001b[0;31m    print('haha'\u001b[0m\n\u001b[0m                ^\u001b[0m\n\u001b[0;31mSyntaxError\u001b[0m\u001b[0;31m:\u001b[0m unexpected EOF while parsing\n"
          ]
        }
      ]
    },
    {
      "cell_type": "markdown",
      "metadata": {
        "id": "8ajtoBUJAvDW",
        "colab_type": "text"
      },
      "source": [
        "In Python, indent matters!!!\n",
        "\n",
        "What's wrong wit the following code?"
      ]
    },
    {
      "cell_type": "code",
      "metadata": {
        "id": "vzc1nAglA6pH",
        "colab_type": "code",
        "colab": {
          "base_uri": "https://localhost:8080/",
          "height": 135
        },
        "outputId": "9cd9bec6-3714-43c0-b12e-b738ce8f98de"
      },
      "source": [
        "print(\"Dear\")\n",
        " print('Brother')"
      ],
      "execution_count": 8,
      "outputs": [
        {
          "output_type": "error",
          "ename": "IndentationError",
          "evalue": "ignored",
          "traceback": [
            "\u001b[0;36m  File \u001b[0;32m\"<ipython-input-8-c05d7bb8751d>\"\u001b[0;36m, line \u001b[0;32m2\u001b[0m\n\u001b[0;31m    print('Brother')\u001b[0m\n\u001b[0m    ^\u001b[0m\n\u001b[0;31mIndentationError\u001b[0m\u001b[0;31m:\u001b[0m unexpected indent\n"
          ]
        }
      ]
    },
    {
      "cell_type": "markdown",
      "metadata": {
        "id": "JQBSRcEcBdze",
        "colab_type": "text"
      },
      "source": [
        "Can you fix the following program? Note that the function is for returning the sum of the two arguments x and y"
      ]
    },
    {
      "cell_type": "code",
      "metadata": {
        "id": "vtvtlgxKAgZ1",
        "colab_type": "code",
        "colab": {
          "base_uri": "https://localhost:8080/",
          "height": 135
        },
        "outputId": "977b40a3-8a8b-4488-ea8c-09ae5fefea63"
      },
      "source": [
        "def add(x,y):\n",
        "z=x+y\n",
        "return z\n",
        "\n",
        "sum=add(2000, 19)\n",
        "print(sum)\n",
        "sum2 = add(19,2000)\n",
        "print(sum2)\n",
        "if(sum==2019 and sum2=2019):\n",
        "  print(\"Congrat! You got them all right!\")\n",
        "else:\n",
        "  print(\"Sorry! At least one is wrong. Try again!\")"
      ],
      "execution_count": 5,
      "outputs": [
        {
          "output_type": "error",
          "ename": "IndentationError",
          "evalue": "ignored",
          "traceback": [
            "\u001b[0;36m  File \u001b[0;32m\"<ipython-input-5-3117b8610711>\"\u001b[0;36m, line \u001b[0;32m2\u001b[0m\n\u001b[0;31m    z=x+y\u001b[0m\n\u001b[0m    ^\u001b[0m\n\u001b[0;31mIndentationError\u001b[0m\u001b[0;31m:\u001b[0m expected an indented block\n"
          ]
        }
      ]
    },
    {
      "cell_type": "markdown",
      "metadata": {
        "id": "QbuNChfZC0e-",
        "colab_type": "text"
      },
      "source": [
        "**Dare you!** \n",
        "\n",
        "Write a funtion that will suntract the first argument from the second argument and return the result. \n",
        "(Hint: you can learn from the add function)"
      ]
    },
    {
      "cell_type": "code",
      "metadata": {
        "id": "Ph4Xrj_ADfRE",
        "colab_type": "code",
        "colab": {}
      },
      "source": [
        ""
      ],
      "execution_count": 0,
      "outputs": []
    }
  ]
}