{
  "nbformat": 4,
  "nbformat_minor": 0,
  "metadata": {
    "colab": {
      "name": "homework05.ipynb",
      "provenance": [],
      "include_colab_link": true
    },
    "kernelspec": {
      "name": "python3",
      "display_name": "Python 3"
    }
  },
  "cells": [
    {
      "cell_type": "markdown",
      "metadata": {
        "id": "view-in-github",
        "colab_type": "text"
      },
      "source": [
        "<a href=\"https://colab.research.google.com/github/zengh100/PythonForKids/blob/master/homework/005/homework05.ipynb\" target=\"_parent\"><img src=\"https://colab.research.google.com/assets/colab-badge.svg\" alt=\"Open In Colab\"/></a>"
      ]
    },
    {
      "cell_type": "markdown",
      "metadata": {
        "id": "73g5sxV2Y7z0",
        "colab_type": "text"
      },
      "source": [
        "How to define a function?\n",
        "\n",
        "![alt text](https://www.guru99.com/images/Pythonnew/Python10.1.png)\n",
        "\n",
        "Note:\n",
        " - The function definition starts with **def**\n",
        "followed by **function name**, and **(arguments if appllicable):**\n",
        " - Pay attention to the colon **:** in the end of annoucement\n",
        " - The following lines are the function body which should be indented."
      ]
    },
    {
      "cell_type": "markdown",
      "metadata": {
        "id": "B6hhWug_bMZy",
        "colab_type": "text"
      },
      "source": [
        "We have learned\n",
        " - function with no argument and no return\n",
        " - function with 1 argument and return"
      ]
    },
    {
      "cell_type": "markdown",
      "metadata": {
        "id": "Sx9_LZO-bqA2",
        "colab_type": "text"
      },
      "source": [
        "Your task: Find question mark and replace it with something to complete the function below so that it will return 5 times of the input value."
      ]
    },
    {
      "cell_type": "code",
      "metadata": {
        "id": "T63YHB2cY562",
        "colab_type": "code",
        "colab": {
          "base_uri": "https://localhost:8080/",
          "height": 130
        },
        "outputId": "da021fd6-3f15-44dd-81eb-efec171ed6ef"
      },
      "source": [
        "def function1(x):\n",
        "  print('input=', x)\n",
        "  return ?*5\n",
        "#call the function with argument of 3 (input)\n",
        "output = function1(3)\n",
        "print('output=', output)"
      ],
      "execution_count": 2,
      "outputs": [
        {
          "output_type": "error",
          "ename": "SyntaxError",
          "evalue": "ignored",
          "traceback": [
            "\u001b[0;36m  File \u001b[0;32m\"<ipython-input-2-cc786a303b29>\"\u001b[0;36m, line \u001b[0;32m3\u001b[0m\n\u001b[0;31m    return ?*5\u001b[0m\n\u001b[0m           ^\u001b[0m\n\u001b[0;31mSyntaxError\u001b[0m\u001b[0;31m:\u001b[0m invalid syntax\n"
          ]
        }
      ]
    },
    {
      "cell_type": "markdown",
      "metadata": {
        "id": "ORe0xsMTdMl7",
        "colab_type": "text"
      },
      "source": [
        "Challenge youself!\n",
        "\n",
        "Define a function that will add two arguments and return the sum by replacing the two question marks ? in the code below:"
      ]
    },
    {
      "cell_type": "code",
      "metadata": {
        "id": "fpzIR9DWdj2f",
        "colab_type": "code",
        "colab": {
          "base_uri": "https://localhost:8080/",
          "height": 130
        },
        "outputId": "152c809c-18b3-423a-f3a1-c3373fda8fbb"
      },
      "source": [
        "def add(x, y):\n",
        "  return ?+?\n",
        "\n",
        "# now call the function with two numbers\n",
        "c = add(3, 7)\n",
        "print(c)"
      ],
      "execution_count": 4,
      "outputs": [
        {
          "output_type": "error",
          "ename": "SyntaxError",
          "evalue": "ignored",
          "traceback": [
            "\u001b[0;36m  File \u001b[0;32m\"<ipython-input-4-adc733f48885>\"\u001b[0;36m, line \u001b[0;32m2\u001b[0m\n\u001b[0;31m    return ?+?\u001b[0m\n\u001b[0m           ^\u001b[0m\n\u001b[0;31mSyntaxError\u001b[0m\u001b[0;31m:\u001b[0m invalid syntax\n"
          ]
        }
      ]
    },
    {
      "cell_type": "markdown",
      "metadata": {
        "id": "lHUB9hr0d3l6",
        "colab_type": "text"
      },
      "source": [
        ""
      ]
    }
  ]
}